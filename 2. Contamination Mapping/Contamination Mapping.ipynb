{
 "cells": [
  {
   "cell_type": "code",
   "execution_count": 12,
   "id": "4edaf20d-87f5-406e-9dbc-e8df76270a3c",
   "metadata": {},
   "outputs": [
    {
     "name": "stderr",
     "output_type": "stream",
     "text": [
      "Warning message in install.packages(\"units\"):\n",
      "“installation of package ‘units’ had non-zero exit status”\n",
      "Updating HTML index of packages in '.Library'\n",
      "\n",
      "Making 'packages.html' ...\n",
      " done\n",
      "\n"
     ]
    }
   ],
   "source": [
    "install.packages('units')"
   ]
  },
  {
   "cell_type": "code",
   "execution_count": 8,
   "id": "745c3de4-bb65-450f-a3be-48edd4da3019",
   "metadata": {},
   "outputs": [
    {
     "name": "stderr",
     "output_type": "stream",
     "text": [
      "also installing the dependencies ‘terra’, ‘units’, ‘raster’, ‘sf’, ‘leaflet’, ‘tidycensus’\n",
      "\n",
      "\n",
      "Warning message in install.packages(\"tigris\", dependencies = TRUE):\n",
      "“installation of package ‘terra’ had non-zero exit status”\n",
      "Warning message in install.packages(\"tigris\", dependencies = TRUE):\n",
      "“installation of package ‘units’ had non-zero exit status”\n",
      "Warning message in install.packages(\"tigris\", dependencies = TRUE):\n",
      "“installation of package ‘raster’ had non-zero exit status”\n",
      "Warning message in install.packages(\"tigris\", dependencies = TRUE):\n",
      "“installation of package ‘sf’ had non-zero exit status”\n",
      "Warning message in install.packages(\"tigris\", dependencies = TRUE):\n",
      "“installation of package ‘leaflet’ had non-zero exit status”\n",
      "Warning message in install.packages(\"tigris\", dependencies = TRUE):\n",
      "“installation of package ‘tigris’ had non-zero exit status”\n",
      "Warning message in install.packages(\"tigris\", dependencies = TRUE):\n",
      "“installation of package ‘tidycensus’ had non-zero exit status”\n",
      "Updating HTML index of packages in '.Library'\n",
      "\n",
      "Making 'packages.html' ...\n",
      " done\n",
      "\n"
     ]
    }
   ],
   "source": [
    "install.packages('tigris', dependencies = TRUE)"
   ]
  },
  {
   "cell_type": "code",
   "execution_count": 10,
   "id": "14dc7904-b909-46a7-b73b-2a20d049e3f9",
   "metadata": {},
   "outputs": [
    {
     "name": "stderr",
     "output_type": "stream",
     "text": [
      "also installing the dependencies ‘credentials’, ‘gitcreds’, ‘ini’, ‘curl’, ‘gert’, ‘gh’, ‘whisker’, ‘downlit’, ‘httr2’, ‘rmarkdown’, ‘xopen’, ‘brew’, ‘usethis’, ‘pkgbuild’, ‘pkgdown’, ‘profvis’, ‘rcmdcheck’, ‘remotes’, ‘roxygen2’, ‘rversions’, ‘sessioninfo’, ‘urlchecker’\n",
      "\n",
      "\n",
      "Warning message in install.packages(\"devtools\"):\n",
      "“installation of package ‘gert’ had non-zero exit status”\n",
      "Warning message in install.packages(\"devtools\"):\n",
      "“installation of package ‘usethis’ had non-zero exit status”\n",
      "Warning message in install.packages(\"devtools\"):\n",
      "“installation of package ‘devtools’ had non-zero exit status”\n",
      "Updating HTML index of packages in '.Library'\n",
      "\n",
      "Making 'packages.html' ...\n",
      " done\n",
      "\n"
     ]
    },
    {
     "ename": "ERROR",
     "evalue": "Error in loadNamespace(x): there is no package called ‘devtools’\n",
     "output_type": "error",
     "traceback": [
      "Error in loadNamespace(x): there is no package called ‘devtools’\nTraceback:\n",
      "1. loadNamespace(x)",
      "2. withRestarts(stop(cond), retry_loadNamespace = function() NULL)",
      "3. withOneRestart(expr, restarts[[1L]])",
      "4. doWithOneRestart(return(expr), restart)"
     ]
    }
   ],
   "source": [
    "install.packages(\"devtools\")\n",
    "devtools::install_github('walkerke/tigris')"
   ]
  },
  {
   "cell_type": "code",
   "execution_count": 2,
   "id": "80b77c89-5a0a-404f-ac6a-5582689ba593",
   "metadata": {},
   "outputs": [
    {
     "name": "stderr",
     "output_type": "stream",
     "text": [
      "── \u001b[1mAttaching core tidyverse packages\u001b[22m ──────────────────────── tidyverse 2.0.0 ──\n",
      "\u001b[32m✔\u001b[39m \u001b[34mdplyr    \u001b[39m 1.1.3     \u001b[32m✔\u001b[39m \u001b[34mreadr    \u001b[39m 2.1.4\n",
      "\u001b[32m✔\u001b[39m \u001b[34mforcats  \u001b[39m 1.0.0     \u001b[32m✔\u001b[39m \u001b[34mstringr  \u001b[39m 1.5.0\n",
      "\u001b[32m✔\u001b[39m \u001b[34mggplot2  \u001b[39m 3.4.3     \u001b[32m✔\u001b[39m \u001b[34mtibble   \u001b[39m 3.2.1\n",
      "\u001b[32m✔\u001b[39m \u001b[34mlubridate\u001b[39m 1.9.2     \u001b[32m✔\u001b[39m \u001b[34mtidyr    \u001b[39m 1.3.0\n",
      "\u001b[32m✔\u001b[39m \u001b[34mpurrr    \u001b[39m 1.0.2     \n",
      "── \u001b[1mConflicts\u001b[22m ────────────────────────────────────────── tidyverse_conflicts() ──\n",
      "\u001b[31m✖\u001b[39m \u001b[34mdplyr\u001b[39m::\u001b[32mfilter()\u001b[39m masks \u001b[34mstats\u001b[39m::filter()\n",
      "\u001b[31m✖\u001b[39m \u001b[34mdplyr\u001b[39m::\u001b[32mlag()\u001b[39m    masks \u001b[34mstats\u001b[39m::lag()\n",
      "\u001b[36mℹ\u001b[39m Use the conflicted package (\u001b[3m\u001b[34m<http://conflicted.r-lib.org/>\u001b[39m\u001b[23m) to force all conflicts to become errors\n",
      "\n",
      "Attaching package: ‘reshape2’\n",
      "\n",
      "\n",
      "The following object is masked from ‘package:tidyr’:\n",
      "\n",
      "    smiths\n",
      "\n",
      "\n",
      "\n",
      "Attaching package: ‘cowplot’\n",
      "\n",
      "\n",
      "The following object is masked from ‘package:lubridate’:\n",
      "\n",
      "    stamp\n",
      "\n",
      "\n",
      "Warning message in eval(expr, envir, enclos):\n",
      "“NAs introduced by coercion”\n",
      "Warning message in eval(expr, envir, enclos):\n",
      "“NAs introduced by coercion”\n"
     ]
    }
   ],
   "source": [
    "Output = ('/Users/alexis/Library/CloudStorage/OneDrive-UniversityofNorthCarolinaatChapelHill/CEMALB_DataAnalysisPM/Projects/P1011. NC Well Metals/P1011.2. Analyses/P1011.2.4. Contamination Mapping/Output')\n",
    "cur_date = \"010925\"\n",
    "\n",
    "library(readxl)\n",
    "library(tidyverse)\n",
    "library(reshape2)\n",
    "library(tigris)\n",
    "library(cowplot)\n",
    "# library(rcartocolor)\n",
    "# library(RColorBrewer)\n",
    "# library(MetBrewer)\n",
    "# library(tidytext)\n",
    "\n",
    "# reading in files\n",
    "as_census_tracts_df = data.frame(read_excel(\"Input/As_Census_Tracts_010925.xlsx\"))\n",
    "mn_census_tracts_df = data.frame(read_excel(\"Input/Mn_Census_Tracts_010925.xlsx\"))\n",
    "\n",
    "as_census_tracts_df$Concentration = as.numeric(as_census_tracts_df$Concentration)\n",
    "mn_census_tracts_df$Concentration = as.numeric(mn_census_tracts_df$Concentration)"
   ]
  },
  {
   "cell_type": "code",
   "execution_count": 3,
   "id": "b1b22520-e6ce-40ba-ac2c-774be1852d53",
   "metadata": {},
   "outputs": [
    {
     "data": {
      "text/html": [
       "<table class=\"dataframe\">\n",
       "<caption>A data.frame: 6 × 2</caption>\n",
       "<thead>\n",
       "\t<tr><th></th><th scope=col>GEOID</th><th scope=col>Concentration</th></tr>\n",
       "\t<tr><th></th><th scope=col>&lt;dbl&gt;</th><th scope=col>&lt;dbl&gt;</th></tr>\n",
       "</thead>\n",
       "<tbody>\n",
       "\t<tr><th scope=row>1</th><td>37179020902</td><td>14.168383</td></tr>\n",
       "\t<tr><th scope=row>2</th><td>37179020901</td><td>13.287818</td></tr>\n",
       "\t<tr><th scope=row>3</th><td>37179020100</td><td>18.720882</td></tr>\n",
       "\t<tr><th scope=row>4</th><td>37179020800</td><td>16.450622</td></tr>\n",
       "\t<tr><th scope=row>5</th><td>37179020401</td><td> 1.731546</td></tr>\n",
       "\t<tr><th scope=row>6</th><td>37179020202</td><td>27.408738</td></tr>\n",
       "</tbody>\n",
       "</table>\n"
      ],
      "text/latex": [
       "A data.frame: 6 × 2\n",
       "\\begin{tabular}{r|ll}\n",
       "  & GEOID & Concentration\\\\\n",
       "  & <dbl> & <dbl>\\\\\n",
       "\\hline\n",
       "\t1 & 37179020902 & 14.168383\\\\\n",
       "\t2 & 37179020901 & 13.287818\\\\\n",
       "\t3 & 37179020100 & 18.720882\\\\\n",
       "\t4 & 37179020800 & 16.450622\\\\\n",
       "\t5 & 37179020401 &  1.731546\\\\\n",
       "\t6 & 37179020202 & 27.408738\\\\\n",
       "\\end{tabular}\n"
      ],
      "text/markdown": [
       "\n",
       "A data.frame: 6 × 2\n",
       "\n",
       "| <!--/--> | GEOID &lt;dbl&gt; | Concentration &lt;dbl&gt; |\n",
       "|---|---|---|\n",
       "| 1 | 37179020902 | 14.168383 |\n",
       "| 2 | 37179020901 | 13.287818 |\n",
       "| 3 | 37179020100 | 18.720882 |\n",
       "| 4 | 37179020800 | 16.450622 |\n",
       "| 5 | 37179020401 |  1.731546 |\n",
       "| 6 | 37179020202 | 27.408738 |\n",
       "\n"
      ],
      "text/plain": [
       "  GEOID       Concentration\n",
       "1 37179020902 14.168383    \n",
       "2 37179020901 13.287818    \n",
       "3 37179020100 18.720882    \n",
       "4 37179020800 16.450622    \n",
       "5 37179020401  1.731546    \n",
       "6 37179020202 27.408738    "
      ]
     },
     "metadata": {},
     "output_type": "display_data"
    },
    {
     "data": {
      "text/html": [
       "<table class=\"dataframe\">\n",
       "<caption>A data.frame: 6 × 2</caption>\n",
       "<thead>\n",
       "\t<tr><th></th><th scope=col>GEOID</th><th scope=col>Concentration</th></tr>\n",
       "\t<tr><th></th><th scope=col>&lt;dbl&gt;</th><th scope=col>&lt;dbl&gt;</th></tr>\n",
       "</thead>\n",
       "<tbody>\n",
       "\t<tr><th scope=row>1</th><td>37179020902</td><td>147.44876</td></tr>\n",
       "\t<tr><th scope=row>2</th><td>37179020901</td><td>202.77838</td></tr>\n",
       "\t<tr><th scope=row>3</th><td>37179020100</td><td>171.13772</td></tr>\n",
       "\t<tr><th scope=row>4</th><td>37179020800</td><td>620.25841</td></tr>\n",
       "\t<tr><th scope=row>5</th><td>37179020401</td><td> 75.00000</td></tr>\n",
       "\t<tr><th scope=row>6</th><td>37179020202</td><td> 28.25828</td></tr>\n",
       "</tbody>\n",
       "</table>\n"
      ],
      "text/latex": [
       "A data.frame: 6 × 2\n",
       "\\begin{tabular}{r|ll}\n",
       "  & GEOID & Concentration\\\\\n",
       "  & <dbl> & <dbl>\\\\\n",
       "\\hline\n",
       "\t1 & 37179020902 & 147.44876\\\\\n",
       "\t2 & 37179020901 & 202.77838\\\\\n",
       "\t3 & 37179020100 & 171.13772\\\\\n",
       "\t4 & 37179020800 & 620.25841\\\\\n",
       "\t5 & 37179020401 &  75.00000\\\\\n",
       "\t6 & 37179020202 &  28.25828\\\\\n",
       "\\end{tabular}\n"
      ],
      "text/markdown": [
       "\n",
       "A data.frame: 6 × 2\n",
       "\n",
       "| <!--/--> | GEOID &lt;dbl&gt; | Concentration &lt;dbl&gt; |\n",
       "|---|---|---|\n",
       "| 1 | 37179020902 | 147.44876 |\n",
       "| 2 | 37179020901 | 202.77838 |\n",
       "| 3 | 37179020100 | 171.13772 |\n",
       "| 4 | 37179020800 | 620.25841 |\n",
       "| 5 | 37179020401 |  75.00000 |\n",
       "| 6 | 37179020202 |  28.25828 |\n",
       "\n"
      ],
      "text/plain": [
       "  GEOID       Concentration\n",
       "1 37179020902 147.44876    \n",
       "2 37179020901 202.77838    \n",
       "3 37179020100 171.13772    \n",
       "4 37179020800 620.25841    \n",
       "5 37179020401  75.00000    \n",
       "6 37179020202  28.25828    "
      ]
     },
     "metadata": {},
     "output_type": "display_data"
    }
   ],
   "source": [
    "head(as_census_tracts_df)\n",
    "head(mn_census_tracts_df)"
   ]
  },
  {
   "cell_type": "markdown",
   "id": "0651fa8d-87ee-4d52-9edb-8cd007f3cafa",
   "metadata": {},
   "source": [
    "ADD WORDS"
   ]
  },
  {
   "cell_type": "code",
   "execution_count": 4,
   "id": "2a753fd8-76f9-4589-9932-f54822ec86a1",
   "metadata": {},
   "outputs": [
    {
     "ename": "ERROR",
     "evalue": "Error in tracts(state = 37, year = 2018): could not find function \"tracts\"\n",
     "output_type": "error",
     "traceback": [
      "Error in tracts(state = 37, year = 2018): could not find function \"tracts\"\nTraceback:\n",
      "1. tracts(state = 37, year = 2018) %>% rename(FIPS = GEOID10)",
      "2. rename(., FIPS = GEOID10)"
     ]
    }
   ],
   "source": [
    "# download shapefile from the tigris (census package)\n",
    "nc_census_tract_shapefile = tracts(state = 37, year = 2018) %>%\n",
    "    rename(FIPS = GEOID10)\n",
    "\n",
    "head(nc_census_tract_shapefile)"
   ]
  },
  {
   "cell_type": "code",
   "execution_count": null,
   "id": "73cd5951-3dd0-4b38-b863-8d1e8983b2c6",
   "metadata": {},
   "outputs": [],
   "source": []
  }
 ],
 "metadata": {
  "kernelspec": {
   "display_name": "R",
   "language": "R",
   "name": "ir"
  },
  "language_info": {
   "codemirror_mode": "r",
   "file_extension": ".r",
   "mimetype": "text/x-r-source",
   "name": "R",
   "pygments_lexer": "r",
   "version": "4.3.1"
  }
 },
 "nbformat": 4,
 "nbformat_minor": 5
}
